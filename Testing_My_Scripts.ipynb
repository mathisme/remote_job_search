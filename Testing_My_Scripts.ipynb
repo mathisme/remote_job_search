{
 "cells": [
  {
   "cell_type": "code",
   "execution_count": 1,
   "id": "eccccc77",
   "metadata": {},
   "outputs": [],
   "source": [
    "#importing what is needed\n",
    "import time\n",
    "import pandas as pd\n",
    "import requests\n",
    "import json5\n"
   ]
  },
  {
   "cell_type": "code",
   "execution_count": 8,
   "id": "69622301",
   "metadata": {},
   "outputs": [],
   "source": [
    "url_base = 'https://www.indeed.com/jobs?q=machine%20learning&l=remote&explvl=entry_level&fromage=1&limit=50'"
   ]
  },
  {
   "cell_type": "code",
   "execution_count": 9,
   "id": "2c95247e",
   "metadata": {},
   "outputs": [],
   "source": [
    "jobs = []"
   ]
  },
  {
   "cell_type": "code",
   "execution_count": 10,
   "id": "68a66d92",
   "metadata": {},
   "outputs": [],
   "source": [
    "err_count = 0\n",
    "text = ''\n",
    "r = requests.get(url_base)\n",
    "while r.status_code!=200 & err_count < 5:\n",
    "    time.sleep(5)\n",
    "    err_count += 1\n",
    "    r = requests.get(url_base)\n",
    "if err_count < 5:\n",
    "    text = r.text\n",
    "for i in range(text.count('jobmap[')):\n",
    "    start = text.find('jobmap[{}]'.format(i))\n",
    "    if start==-1:\n",
    "        continue\n",
    "    end = text.find('jobmap[{}]'.format(i+1))\n",
    "    s = text.find('{',start)\n",
    "    if end == -1:\n",
    "        e = text.find('}',s)\n",
    "    else:\n",
    "        e = text.rfind('}',s,end)\n",
    "    job = json5.loads(text[s:e+1])\n",
    "    jobs.append(job)\n",
    "   "
   ]
  },
  {
   "cell_type": "code",
   "execution_count": null,
   "id": "10945275",
   "metadata": {},
   "outputs": [],
   "source": []
  }
 ],
 "metadata": {
  "kernelspec": {
   "display_name": "Python 3",
   "language": "python",
   "name": "python3"
  },
  "language_info": {
   "codemirror_mode": {
    "name": "ipython",
    "version": 3
   },
   "file_extension": ".py",
   "mimetype": "text/x-python",
   "name": "python",
   "nbconvert_exporter": "python",
   "pygments_lexer": "ipython3",
   "version": "3.9.5"
  }
 },
 "nbformat": 4,
 "nbformat_minor": 5
}
